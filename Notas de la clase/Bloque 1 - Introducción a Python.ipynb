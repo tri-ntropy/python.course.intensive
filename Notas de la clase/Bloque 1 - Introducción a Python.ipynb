{
 "cells": [
  {
   "cell_type": "markdown",
   "id": "a8b5a893",
   "metadata": {},
   "source": [
    "# Introducción a Python"
   ]
  },
  {
   "cell_type": "markdown",
   "id": "81b902a0",
   "metadata": {},
   "source": [
    "## Importación de bibliotecas"
   ]
  },
  {
   "cell_type": "code",
   "execution_count": null,
   "id": "c663ed3a",
   "metadata": {},
   "outputs": [],
   "source": [
    "import math as math\n",
    "import random as random\n",
    "from time import time"
   ]
  },
  {
   "cell_type": "markdown",
   "id": "c8a98e51",
   "metadata": {},
   "source": [
    "## El clásico \"Hola Mundo\""
   ]
  },
  {
   "cell_type": "code",
   "execution_count": null,
   "id": "e1aa26c8",
   "metadata": {},
   "outputs": [],
   "source": [
    "print(\"Hola Mundo\")"
   ]
  },
  {
   "cell_type": "markdown",
   "id": "bdc71d10",
   "metadata": {},
   "source": [
    "## Tipos de datos básicos"
   ]
  },
  {
   "cell_type": "markdown",
   "id": "fe500d56",
   "metadata": {},
   "source": [
    "**int**\n",
    "\n",
    "Los números enteros"
   ]
  },
  {
   "cell_type": "code",
   "execution_count": null,
   "id": "e476bd2e",
   "metadata": {},
   "outputs": [],
   "source": [
    "a = 5\n",
    "a"
   ]
  },
  {
   "cell_type": "markdown",
   "id": "c9877410",
   "metadata": {},
   "source": [
    "**float**\n",
    "\n",
    "Los números decimales"
   ]
  },
  {
   "cell_type": "code",
   "execution_count": null,
   "id": "39057d19",
   "metadata": {},
   "outputs": [],
   "source": [
    "b = 7.2\n",
    "b"
   ]
  },
  {
   "cell_type": "markdown",
   "id": "9167e348",
   "metadata": {},
   "source": [
    "**complex**\n",
    "\n",
    "Números complejos, con parte real y parte imaginaria (en Python el imaginario $i$ se expresa como $j$)"
   ]
  },
  {
   "cell_type": "code",
   "execution_count": null,
   "id": "22d1ac91",
   "metadata": {},
   "outputs": [],
   "source": [
    "c = 2 + 3j\n",
    "c"
   ]
  },
  {
   "cell_type": "markdown",
   "id": "110975ab",
   "metadata": {},
   "source": [
    "**str**\n",
    "\n",
    "Strings, o cadenas de carácteres"
   ]
  },
  {
   "cell_type": "code",
   "execution_count": null,
   "id": "4c7610da",
   "metadata": {},
   "outputs": [],
   "source": [
    "s = \"Hola Mundo\"\n",
    "s"
   ]
  },
  {
   "cell_type": "markdown",
   "id": "28d2bab8",
   "metadata": {},
   "source": [
    "**bool**\n",
    "\n",
    "Valores booleanos, solo pueden tener dos valores: `True` y `False`"
   ]
  },
  {
   "cell_type": "code",
   "execution_count": null,
   "id": "56d32897",
   "metadata": {},
   "outputs": [],
   "source": [
    "t = True\n",
    "t"
   ]
  },
  {
   "cell_type": "markdown",
   "id": "2e168c23",
   "metadata": {},
   "source": [
    "## Estructuras de datos básicas"
   ]
  },
  {
   "cell_type": "markdown",
   "id": "ecd16d50",
   "metadata": {},
   "source": [
    "**set**\n",
    "\n",
    "Conjuntos: No tienen orden y solo pueden contener una instancia única de cada dato, los datos repetidos se suprimen."
   ]
  },
  {
   "cell_type": "code",
   "execution_count": null,
   "id": "6c23b876",
   "metadata": {},
   "outputs": [],
   "source": [
    "u = {1, 2, 3, 4, 3}\n",
    "u"
   ]
  },
  {
   "cell_type": "markdown",
   "id": "812e93f5",
   "metadata": {},
   "source": [
    "**tuple**\n",
    "\n",
    "Tuplas: Tienen un orden, permiten la repetición de datos, se puede accesar a los datos con la notación `a[i]` donde `i` es el índice y son inmutables, es decir, una vez creados no pueden modificarse, solo eliminarse por completo."
   ]
  },
  {
   "cell_type": "code",
   "execution_count": null,
   "id": "3722566e",
   "metadata": {},
   "outputs": [],
   "source": [
    "v = (1, 2, 3, 4, 3)\n",
    "v"
   ]
  },
  {
   "cell_type": "markdown",
   "id": "e33d1ac2",
   "metadata": {},
   "source": [
    "**list**\n",
    "\n",
    "Listas: Tienen un orden, permiten la repetición de datos, se puede accesar a los datos con la notación `a[i]` donde `i` es el índice y son mutables, es decir, se pueden modificar despues de ser creadas."
   ]
  },
  {
   "cell_type": "code",
   "execution_count": null,
   "id": "498d7ecb",
   "metadata": {},
   "outputs": [],
   "source": [
    "w = [1, 2, 3, 4, 3]\n",
    "w"
   ]
  },
  {
   "cell_type": "markdown",
   "id": "0266b038",
   "metadata": {},
   "source": [
    "**dict**\n",
    "\n",
    "Diccionarios: No tienen un orden, son parejas de *llaves* y *valores*, las llaves no pueden repetirse, se puede accesar a los valores con la notación `a[i]` donde `i` es la llave y son mutables, se pueden modificar después de ser creados."
   ]
  },
  {
   "cell_type": "code",
   "execution_count": null,
   "id": "750ee7d8",
   "metadata": {},
   "outputs": [],
   "source": [
    "z = {\"a\" : 1, \"b\" : 2, \"c\" : 3}\n",
    "z"
   ]
  },
  {
   "cell_type": "markdown",
   "id": "6c8c6f8e",
   "metadata": {},
   "source": [
    "### La función `type()`"
   ]
  },
  {
   "cell_type": "code",
   "execution_count": null,
   "id": "84b66838",
   "metadata": {},
   "outputs": [],
   "source": [
    "type(c)"
   ]
  },
  {
   "cell_type": "markdown",
   "id": "0529ec23",
   "metadata": {},
   "source": [
    "### La función `print()`"
   ]
  },
  {
   "cell_type": "code",
   "execution_count": null,
   "id": "3f5787b7",
   "metadata": {},
   "outputs": [],
   "source": [
    "print(\"Este es un:\", s)"
   ]
  },
  {
   "cell_type": "code",
   "execution_count": null,
   "id": "e32ec91b",
   "metadata": {},
   "outputs": [],
   "source": [
    "print(f\"Este es un: {s}\")"
   ]
  },
  {
   "cell_type": "markdown",
   "id": "4106f8ac",
   "metadata": {},
   "source": [
    "### La función `dir`\n"
   ]
  },
  {
   "cell_type": "code",
   "execution_count": null,
   "id": "aa068e05",
   "metadata": {},
   "outputs": [],
   "source": [
    "dir(a)"
   ]
  },
  {
   "cell_type": "code",
   "execution_count": null,
   "id": "5c94cb25",
   "metadata": {},
   "outputs": [],
   "source": []
  }
 ],
 "metadata": {
  "kernelspec": {
   "display_name": "sci",
   "language": "python",
   "name": "python3"
  },
  "language_info": {
   "codemirror_mode": {
    "name": "ipython",
    "version": 3
   },
   "file_extension": ".py",
   "mimetype": "text/x-python",
   "name": "python",
   "nbconvert_exporter": "python",
   "pygments_lexer": "ipython3",
   "version": "3.13.2"
  }
 },
 "nbformat": 4,
 "nbformat_minor": 5
}
