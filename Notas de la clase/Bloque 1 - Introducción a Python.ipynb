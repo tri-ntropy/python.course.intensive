{
 "cells": [
  {
   "cell_type": "markdown",
   "id": "a8b5a893",
   "metadata": {},
   "source": [
    "# Introducción a Python\n",
    "\n",
    "Para correr las celdas en el Notebook existen dos maneras principales: la primera es ejecutar todo con el botón **Ejecutar todo**, y la segunda es ejecutar una sola celda al seleccionarla y usando **Shift + Enter**"
   ]
  },
  {
   "cell_type": "markdown",
   "id": "81b902a0",
   "metadata": {},
   "source": [
    "## Importación de bibliotecas"
   ]
  },
  {
   "cell_type": "code",
   "execution_count": 129,
   "id": "c663ed3a",
   "metadata": {},
   "outputs": [],
   "source": [
    "import math as math\n",
    "import random as random\n",
    "from time import time"
   ]
  },
  {
   "cell_type": "markdown",
   "id": "c8a98e51",
   "metadata": {},
   "source": [
    "## El clásico \"Hola Mundo\""
   ]
  },
  {
   "cell_type": "code",
   "execution_count": 130,
   "id": "e1aa26c8",
   "metadata": {},
   "outputs": [
    {
     "name": "stdout",
     "output_type": "stream",
     "text": [
      "Hola Mundo\n"
     ]
    }
   ],
   "source": [
    "print(\"Hola Mundo\")"
   ]
  },
  {
   "cell_type": "markdown",
   "id": "bdc71d10",
   "metadata": {},
   "source": [
    "## Tipos de datos básicos"
   ]
  },
  {
   "cell_type": "markdown",
   "id": "fe500d56",
   "metadata": {},
   "source": [
    "**int**\n",
    "\n",
    "Los números enteros (computacionalmente)"
   ]
  },
  {
   "cell_type": "code",
   "execution_count": 131,
   "id": "e476bd2e",
   "metadata": {},
   "outputs": [
    {
     "data": {
      "text/plain": [
       "5"
      ]
     },
     "execution_count": 131,
     "metadata": {},
     "output_type": "execute_result"
    }
   ],
   "source": [
    "a = 5\n",
    "a"
   ]
  },
  {
   "cell_type": "markdown",
   "id": "c9877410",
   "metadata": {},
   "source": [
    "**float**\n",
    "\n",
    "Los números decimales"
   ]
  },
  {
   "cell_type": "code",
   "execution_count": 132,
   "id": "39057d19",
   "metadata": {},
   "outputs": [
    {
     "data": {
      "text/plain": [
       "7.2"
      ]
     },
     "execution_count": 132,
     "metadata": {},
     "output_type": "execute_result"
    }
   ],
   "source": [
    "b = 7.2\n",
    "b"
   ]
  },
  {
   "cell_type": "markdown",
   "id": "9167e348",
   "metadata": {},
   "source": [
    "**complex**\n",
    "\n",
    "Números complejos, con parte real y parte imaginaria (en Python el imaginario $i$ se expresa como $j$)"
   ]
  },
  {
   "cell_type": "code",
   "execution_count": 133,
   "id": "22d1ac91",
   "metadata": {},
   "outputs": [
    {
     "data": {
      "text/plain": [
       "(2+3j)"
      ]
     },
     "execution_count": 133,
     "metadata": {},
     "output_type": "execute_result"
    }
   ],
   "source": [
    "c = 2 + 3j\n",
    "c"
   ]
  },
  {
   "cell_type": "markdown",
   "id": "110975ab",
   "metadata": {},
   "source": [
    "**str**\n",
    "\n",
    "Strings, o cadenas de carácteres"
   ]
  },
  {
   "cell_type": "code",
   "execution_count": 134,
   "id": "4c7610da",
   "metadata": {},
   "outputs": [
    {
     "data": {
      "text/plain": [
       "'Hola Mundo'"
      ]
     },
     "execution_count": 134,
     "metadata": {},
     "output_type": "execute_result"
    }
   ],
   "source": [
    "s = \"Hola Mundo\"\n",
    "s"
   ]
  },
  {
   "cell_type": "markdown",
   "id": "28d2bab8",
   "metadata": {},
   "source": [
    "**bool**\n",
    "\n",
    "Valores booleanos, solo pueden tener dos valores: `True` y `False`"
   ]
  },
  {
   "cell_type": "code",
   "execution_count": 135,
   "id": "56d32897",
   "metadata": {},
   "outputs": [
    {
     "data": {
      "text/plain": [
       "True"
      ]
     },
     "execution_count": 135,
     "metadata": {},
     "output_type": "execute_result"
    }
   ],
   "source": [
    "t = True\n",
    "t"
   ]
  },
  {
   "cell_type": "markdown",
   "id": "2e168c23",
   "metadata": {},
   "source": [
    "## Estructuras de datos básicas"
   ]
  },
  {
   "cell_type": "markdown",
   "id": "ecd16d50",
   "metadata": {},
   "source": [
    "**set**\n",
    "\n",
    "Conjuntos: No tienen orden y solo pueden contener una instancia única de cada dato, los datos repetidos se suprimen."
   ]
  },
  {
   "cell_type": "code",
   "execution_count": 136,
   "id": "6c23b876",
   "metadata": {},
   "outputs": [
    {
     "data": {
      "text/plain": [
       "{1, 2, 3, 4}"
      ]
     },
     "execution_count": 136,
     "metadata": {},
     "output_type": "execute_result"
    }
   ],
   "source": [
    "u = {1, 2, 3, 4, 3}\n",
    "u"
   ]
  },
  {
   "cell_type": "markdown",
   "id": "812e93f5",
   "metadata": {},
   "source": [
    "**tuple**\n",
    "\n",
    "Tuplas: Tienen un orden, permiten la repetición de datos, se puede accesar a los datos con la notación `a[i]` donde `i` es el índice y son inmutables, es decir, una vez creados no pueden modificarse, solo eliminarse por completo."
   ]
  },
  {
   "cell_type": "code",
   "execution_count": 137,
   "id": "3722566e",
   "metadata": {},
   "outputs": [
    {
     "data": {
      "text/plain": [
       "(1, 2, 3, 4, 3)"
      ]
     },
     "execution_count": 137,
     "metadata": {},
     "output_type": "execute_result"
    }
   ],
   "source": [
    "v = (1, 2, 3, 4, 3)\n",
    "v"
   ]
  },
  {
   "cell_type": "markdown",
   "id": "e33d1ac2",
   "metadata": {},
   "source": [
    "**list**\n",
    "\n",
    "Listas: Tienen un orden, permiten la repetición de datos, se puede accesar a los datos con la notación `a[i]` donde `i` es el índice y son mutables, es decir, se pueden modificar despues de ser creadas."
   ]
  },
  {
   "cell_type": "code",
   "execution_count": 138,
   "id": "498d7ecb",
   "metadata": {},
   "outputs": [
    {
     "data": {
      "text/plain": [
       "[1, 2, 3, 4, 3]"
      ]
     },
     "execution_count": 138,
     "metadata": {},
     "output_type": "execute_result"
    }
   ],
   "source": [
    "w = [1, 2, 3, 4, 3]\n",
    "w"
   ]
  },
  {
   "cell_type": "markdown",
   "id": "0266b038",
   "metadata": {},
   "source": [
    "**dict**\n",
    "\n",
    "Diccionarios: No tienen un orden, son parejas de *llaves* y *valores*, las llaves no pueden repetirse, se puede accesar a los valores con la notación `a[i]` donde `i` es la llave y son mutables, se pueden modificar después de ser creados."
   ]
  },
  {
   "cell_type": "code",
   "execution_count": 139,
   "id": "750ee7d8",
   "metadata": {},
   "outputs": [
    {
     "data": {
      "text/plain": [
       "{'a': 1, 'b': 2, 'c': 3}"
      ]
     },
     "execution_count": 139,
     "metadata": {},
     "output_type": "execute_result"
    }
   ],
   "source": [
    "z = {\"a\" : 1, \"b\" : 2, \"c\" : 3}\n",
    "z"
   ]
  },
  {
   "cell_type": "markdown",
   "id": "6c8c6f8e",
   "metadata": {},
   "source": [
    "### La función `type()`"
   ]
  },
  {
   "cell_type": "code",
   "execution_count": 140,
   "id": "84b66838",
   "metadata": {},
   "outputs": [
    {
     "data": {
      "text/plain": [
       "complex"
      ]
     },
     "execution_count": 140,
     "metadata": {},
     "output_type": "execute_result"
    }
   ],
   "source": [
    "type(c)"
   ]
  },
  {
   "cell_type": "markdown",
   "id": "0529ec23",
   "metadata": {},
   "source": [
    "### La función `print()`"
   ]
  },
  {
   "cell_type": "code",
   "execution_count": 141,
   "id": "3f5787b7",
   "metadata": {},
   "outputs": [
    {
     "name": "stdout",
     "output_type": "stream",
     "text": [
      "Este es un: Hola Mundo\n"
     ]
    }
   ],
   "source": [
    "print(\"Este es un:\", s) # Esta es una manera de hacer un print"
   ]
  },
  {
   "cell_type": "code",
   "execution_count": 142,
   "id": "e32ec91b",
   "metadata": {},
   "outputs": [
    {
     "name": "stdout",
     "output_type": "stream",
     "text": [
      "Este es un: Hola Mundo\n"
     ]
    }
   ],
   "source": [
    "print(f\"Este es un: {s}\") # Pero esta es más cómoda "
   ]
  },
  {
   "cell_type": "markdown",
   "id": "4106f8ac",
   "metadata": {},
   "source": [
    "### La función `dir`\n"
   ]
  },
  {
   "cell_type": "code",
   "execution_count": 143,
   "id": "aa068e05",
   "metadata": {},
   "outputs": [
    {
     "data": {
      "text/plain": [
       "['__abs__',\n",
       " '__add__',\n",
       " '__and__',\n",
       " '__bool__',\n",
       " '__ceil__',\n",
       " '__class__',\n",
       " '__delattr__',\n",
       " '__dir__',\n",
       " '__divmod__',\n",
       " '__doc__',\n",
       " '__eq__',\n",
       " '__float__',\n",
       " '__floor__',\n",
       " '__floordiv__',\n",
       " '__format__',\n",
       " '__ge__',\n",
       " '__getattribute__',\n",
       " '__getnewargs__',\n",
       " '__getstate__',\n",
       " '__gt__',\n",
       " '__hash__',\n",
       " '__index__',\n",
       " '__init__',\n",
       " '__init_subclass__',\n",
       " '__int__',\n",
       " '__invert__',\n",
       " '__le__',\n",
       " '__lshift__',\n",
       " '__lt__',\n",
       " '__mod__',\n",
       " '__mul__',\n",
       " '__ne__',\n",
       " '__neg__',\n",
       " '__new__',\n",
       " '__or__',\n",
       " '__pos__',\n",
       " '__pow__',\n",
       " '__radd__',\n",
       " '__rand__',\n",
       " '__rdivmod__',\n",
       " '__reduce__',\n",
       " '__reduce_ex__',\n",
       " '__repr__',\n",
       " '__rfloordiv__',\n",
       " '__rlshift__',\n",
       " '__rmod__',\n",
       " '__rmul__',\n",
       " '__ror__',\n",
       " '__round__',\n",
       " '__rpow__',\n",
       " '__rrshift__',\n",
       " '__rshift__',\n",
       " '__rsub__',\n",
       " '__rtruediv__',\n",
       " '__rxor__',\n",
       " '__setattr__',\n",
       " '__sizeof__',\n",
       " '__str__',\n",
       " '__sub__',\n",
       " '__subclasshook__',\n",
       " '__truediv__',\n",
       " '__trunc__',\n",
       " '__xor__',\n",
       " 'as_integer_ratio',\n",
       " 'bit_count',\n",
       " 'bit_length',\n",
       " 'conjugate',\n",
       " 'denominator',\n",
       " 'from_bytes',\n",
       " 'imag',\n",
       " 'is_integer',\n",
       " 'numerator',\n",
       " 'real',\n",
       " 'to_bytes']"
      ]
     },
     "execution_count": 143,
     "metadata": {},
     "output_type": "execute_result"
    }
   ],
   "source": [
    "dir(a)"
   ]
  },
  {
   "cell_type": "markdown",
   "id": "21a7833a",
   "metadata": {},
   "source": [
    "### La notación `variable.atributo` / `variable.método()`"
   ]
  },
  {
   "cell_type": "code",
   "execution_count": 144,
   "id": "5c94cb25",
   "metadata": {},
   "outputs": [
    {
     "data": {
      "text/plain": [
       "False"
      ]
     },
     "execution_count": 144,
     "metadata": {},
     "output_type": "execute_result"
    }
   ],
   "source": [
    "b.is_integer()"
   ]
  },
  {
   "cell_type": "code",
   "execution_count": 145,
   "id": "e72bbbb2",
   "metadata": {},
   "outputs": [
    {
     "data": {
      "text/plain": [
       "True"
      ]
     },
     "execution_count": 145,
     "metadata": {},
     "output_type": "execute_result"
    }
   ],
   "source": [
    "b = 7.0\n",
    "b.is_integer()"
   ]
  },
  {
   "cell_type": "markdown",
   "id": "4c734738",
   "metadata": {},
   "source": [
    "**Actividad**\n",
    "Definan una variable de tipo `str` y apliquen cinco de sus métodos para observar que hace cada uno"
   ]
  },
  {
   "cell_type": "code",
   "execution_count": 146,
   "id": "b5674247",
   "metadata": {},
   "outputs": [
    {
     "data": {
      "text/plain": [
       "'The Quick brown Fox jumps over the lazy Dog'"
      ]
     },
     "execution_count": 146,
     "metadata": {},
     "output_type": "execute_result"
    }
   ],
   "source": [
    "s2 = \"The Quick brown Fox jumps over the lazy Dog\"\n",
    "s2"
   ]
  },
  {
   "cell_type": "markdown",
   "id": "0fc6bdcc",
   "metadata": {},
   "source": [
    "**Actividad**\n",
    "Definan dos variables de tipo `list`, una solo con `int`s  y otra con `float`s y apliquen cinco de sus métodos para observar que hace cada uno"
   ]
  },
  {
   "cell_type": "code",
   "execution_count": 147,
   "id": "b0603c2d",
   "metadata": {},
   "outputs": [],
   "source": [
    "l1 = [\"x\", \"b\", \"y\", \"d\"]\n",
    "l2 = [7.9, 3.0, 4.2, 1.9]"
   ]
  },
  {
   "cell_type": "markdown",
   "id": "4f675da4",
   "metadata": {},
   "source": [
    "**Actividad** Genera un código que cree una lista de volados. 1 es sol, y 0 es aguila."
   ]
  },
  {
   "cell_type": "code",
   "execution_count": 148,
   "id": "cd14d1f3",
   "metadata": {},
   "outputs": [],
   "source": [
    "volados = []\n",
    "for i in range(10):\n",
    "    volados.append(random.randint(0, 1))"
   ]
  },
  {
   "cell_type": "code",
   "execution_count": 149,
   "id": "17de1d8b",
   "metadata": {},
   "outputs": [
    {
     "data": {
      "text/plain": [
       "[1, 1, 1, 1, 1, 0, 1, 0, 0, 1]"
      ]
     },
     "execution_count": 149,
     "metadata": {},
     "output_type": "execute_result"
    }
   ],
   "source": [
    "volados"
   ]
  },
  {
   "cell_type": "markdown",
   "id": "177dd296",
   "metadata": {},
   "source": [
    "### Comprensión de iterables"
   ]
  },
  {
   "cell_type": "markdown",
   "id": "3a4f12d1",
   "metadata": {},
   "source": [
    "Listas"
   ]
  },
  {
   "cell_type": "code",
   "execution_count": 150,
   "id": "d5daa75d",
   "metadata": {},
   "outputs": [
    {
     "data": {
      "text/plain": [
       "[0, 1, 1, 0, 0, 0, 0, 1, 1, 1]"
      ]
     },
     "execution_count": 150,
     "metadata": {},
     "output_type": "execute_result"
    }
   ],
   "source": [
    "volados = [random.randint(0, 1) for _ in range(10)]\n",
    "volados"
   ]
  },
  {
   "cell_type": "markdown",
   "id": "e33c63b5",
   "metadata": {},
   "source": [
    "Tuplas"
   ]
  },
  {
   "cell_type": "code",
   "execution_count": 151,
   "id": "a9c4353e",
   "metadata": {},
   "outputs": [
    {
     "data": {
      "text/plain": [
       "(0, 1, 0, 0, 0, 1, 0, 0, 0, 1)"
      ]
     },
     "execution_count": 151,
     "metadata": {},
     "output_type": "execute_result"
    }
   ],
   "source": [
    "volados = tuple(random.randint(0, 1) for _ in range(10))\n",
    "volados"
   ]
  },
  {
   "cell_type": "markdown",
   "id": "34798d26",
   "metadata": {},
   "source": [
    "Diccionarios"
   ]
  },
  {
   "cell_type": "code",
   "execution_count": 152,
   "id": "2dd643c6",
   "metadata": {},
   "outputs": [
    {
     "data": {
      "text/plain": [
       "{0: 1, 1: 1, 2: 1, 3: 1, 4: 0, 5: 1, 6: 0, 7: 0, 8: 1, 9: 1}"
      ]
     },
     "execution_count": 152,
     "metadata": {},
     "output_type": "execute_result"
    }
   ],
   "source": [
    "volados_numerados = {i: j \n",
    "                     for i, j in tuple(\n",
    "                     enumerate(\n",
    "                     random.randint(0, 1)\n",
    "                     for _ in range(10)))\n",
    "                    }\n",
    "volados_numerados"
   ]
  },
  {
   "cell_type": "markdown",
   "id": "36111b0d",
   "metadata": {},
   "source": [
    "Operación sobre diccionarios"
   ]
  },
  {
   "cell_type": "code",
   "execution_count": 153,
   "id": "a01ada34",
   "metadata": {},
   "outputs": [
    {
     "data": {
      "text/plain": [
       "{0: 10, 1: 10, 2: 10, 3: 10, 4: 0, 5: 10, 6: 0, 7: 0, 8: 10, 9: 10}"
      ]
     },
     "execution_count": 153,
     "metadata": {},
     "output_type": "execute_result"
    }
   ],
   "source": [
    "for i in volados_numerados.keys():\n",
    "    volados_numerados[i] *= 10\n",
    "\n",
    "volados_numerados"
   ]
  },
  {
   "cell_type": "markdown",
   "id": "42e408f5",
   "metadata": {},
   "source": [
    "## La prueba buzzfeed"
   ]
  },
  {
   "cell_type": "code",
   "execution_count": 154,
   "id": "3d121bfc",
   "metadata": {},
   "outputs": [
    {
     "name": "stdout",
     "output_type": "stream",
     "text": [
      "1\n",
      "2\n",
      "buzz\n",
      "4\n",
      "feed\n",
      "buzz\n",
      "7\n",
      "8\n",
      "buzz\n",
      "feed\n",
      "11\n",
      "buzz\n",
      "13\n",
      "14\n",
      "buzzfeed\n"
     ]
    }
   ],
   "source": [
    "for i in range(1, 16):\n",
    "    if i % 3 == 0 and i % 5 == 0:\n",
    "        print(\"buzzfeed\")\n",
    "    elif i % 3 == 0:\n",
    "        print(\"buzz\")\n",
    "    elif i % 5 == 0:\n",
    "        print(\"feed\")\n",
    "    else:\n",
    "        print(i)\n",
    "    "
   ]
  },
  {
   "cell_type": "code",
   "execution_count": 155,
   "id": "72317d26",
   "metadata": {},
   "outputs": [
    {
     "data": {
      "text/plain": [
       "'ab'"
      ]
     },
     "execution_count": 155,
     "metadata": {},
     "output_type": "execute_result"
    }
   ],
   "source": [
    "\"a\" + \"b\""
   ]
  },
  {
   "cell_type": "code",
   "execution_count": 156,
   "id": "5e202c50",
   "metadata": {},
   "outputs": [
    {
     "name": "stdout",
     "output_type": "stream",
     "text": [
      "1\n",
      "2\n",
      "buzz\n",
      "4\n",
      "feed\n",
      "buzz\n",
      "7\n",
      "8\n",
      "buzz\n",
      "feed\n",
      "11\n",
      "buzz\n",
      "13\n",
      "14\n",
      "buzzfeed\n"
     ]
    }
   ],
   "source": [
    "for i in range(1, 16):\n",
    "    s = \"\"\n",
    "    if i % 3 == 0:\n",
    "        s += \"buzz\"\n",
    "    if i % 5 == 0:\n",
    "        s += \"feed\"\n",
    "    if s == \"\":\n",
    "        print(i)\n",
    "    else:\n",
    "        print(s)"
   ]
  },
  {
   "cell_type": "code",
   "execution_count": 157,
   "id": "f3f72c07",
   "metadata": {},
   "outputs": [
    {
     "data": {
      "text/plain": [
       "[1, 2, 3, 4, 5, 6, 7, 8, 9, 10, 11, 12, 13, 14, 'buzzfeed']"
      ]
     },
     "execution_count": 157,
     "metadata": {},
     "output_type": "execute_result"
    }
   ],
   "source": [
    "buzzfeed = [\"buzzfeed\"\n",
    "            if (i % 3 == 0) and (i % 5 == 0) \n",
    "            else i for i in range (1, 16)]\n",
    "buzzfeed"
   ]
  },
  {
   "cell_type": "code",
   "execution_count": 158,
   "id": "c9b12902",
   "metadata": {},
   "outputs": [],
   "source": [
    "def buzzfeed1(n):\n",
    "    resultados = []\n",
    "    for i in range(1, n + 1):\n",
    "        s = \"\"\n",
    "        if i % 3 == 0:\n",
    "            s += \"buzz\"\n",
    "        if i % 5 == 0:\n",
    "            s += \"feed\"\n",
    "        \n",
    "        if s == \"\":\n",
    "            resultados.append(i)\n",
    "        else:\n",
    "            resultados.append(s)\n",
    "    \n",
    "    return resultados\n",
    "    "
   ]
  },
  {
   "cell_type": "code",
   "execution_count": 159,
   "id": "e6b1d2dd",
   "metadata": {},
   "outputs": [
    {
     "data": {
      "text/plain": [
       "[1,\n",
       " 2,\n",
       " 'buzz',\n",
       " 4,\n",
       " 'feed',\n",
       " 'buzz',\n",
       " 7,\n",
       " 8,\n",
       " 'buzz',\n",
       " 'feed',\n",
       " 11,\n",
       " 'buzz',\n",
       " 13,\n",
       " 14,\n",
       " 'buzzfeed']"
      ]
     },
     "execution_count": 159,
     "metadata": {},
     "output_type": "execute_result"
    }
   ],
   "source": [
    "buzzfeed1(15)"
   ]
  },
  {
   "cell_type": "code",
   "execution_count": 160,
   "id": "4f8d5cf4",
   "metadata": {},
   "outputs": [],
   "source": [
    "def buzzfeed2(a):\n",
    "    s = \"\"\n",
    "    if a % 3 == 0:\n",
    "        s += \"buzz\"\n",
    "    if a % 5 == 0:\n",
    "        s += \"feed\"\n",
    "\n",
    "    if s == \"\":\n",
    "        return a\n",
    "    return s"
   ]
  },
  {
   "cell_type": "code",
   "execution_count": 161,
   "id": "7025955b",
   "metadata": {},
   "outputs": [
    {
     "name": "stdout",
     "output_type": "stream",
     "text": [
      "1\n",
      "2\n",
      "buzz\n",
      "4\n",
      "feed\n",
      "buzz\n",
      "7\n",
      "8\n",
      "buzz\n",
      "feed\n",
      "11\n",
      "buzz\n",
      "13\n",
      "14\n",
      "buzzfeed\n"
     ]
    }
   ],
   "source": [
    "for i in range(1, 16):\n",
    "    print(buzzfeed2(i))"
   ]
  },
  {
   "cell_type": "markdown",
   "id": "e56392c6",
   "metadata": {},
   "source": [
    "**Actividad** ¿Cuál es la probabilidad de que en un conjunto de 30 volados, al menos 21 sean sol?"
   ]
  },
  {
   "cell_type": "code",
   "execution_count": null,
   "id": "805f2eef",
   "metadata": {},
   "outputs": [],
   "source": [
    "def volados30(m : int  = 21):\n",
    "    volados = [random.randint(0, 1) for _ in range(30)]\n",
    "    s = sum(volados)\n",
    "    if s >= m:\n",
    "        return 1\n",
    "    return 0\n",
    "\n",
    "def probabilidad_volados30(n: int, m = 21):\n",
    "    a = 0\n",
    "    for i in range(n):\n",
    "        a += volados30(m)\n",
    "    return a / n"
   ]
  },
  {
   "cell_type": "code",
   "execution_count": 164,
   "id": "c6ffabf4",
   "metadata": {},
   "outputs": [
    {
     "data": {
      "text/plain": [
       "0.178"
      ]
     },
     "execution_count": 164,
     "metadata": {},
     "output_type": "execute_result"
    }
   ],
   "source": [
    "probabilidad_volados30(10000, 18)"
   ]
  },
  {
   "cell_type": "code",
   "execution_count": null,
   "id": "494e074c",
   "metadata": {},
   "outputs": [],
   "source": []
  }
 ],
 "metadata": {
  "kernelspec": {
   "display_name": "sci",
   "language": "python",
   "name": "python3"
  },
  "language_info": {
   "codemirror_mode": {
    "name": "ipython",
    "version": 3
   },
   "file_extension": ".py",
   "mimetype": "text/x-python",
   "name": "python",
   "nbconvert_exporter": "python",
   "pygments_lexer": "ipython3",
   "version": "3.13.4"
  }
 },
 "nbformat": 4,
 "nbformat_minor": 5
}
