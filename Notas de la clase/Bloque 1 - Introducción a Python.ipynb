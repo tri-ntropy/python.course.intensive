{
 "cells": [
  {
   "cell_type": "markdown",
   "id": "a8b5a893",
   "metadata": {},
   "source": [
    "# Introducción a Python"
   ]
  },
  {
   "cell_type": "markdown",
   "id": "81b902a0",
   "metadata": {},
   "source": [
    "## Importación de bibliotecas"
   ]
  },
  {
   "cell_type": "code",
   "execution_count": 2,
   "id": "c663ed3a",
   "metadata": {},
   "outputs": [],
   "source": [
    "import math as math\n",
    "import random as random\n",
    "from time import time"
   ]
  },
  {
   "cell_type": "markdown",
   "id": "c8a98e51",
   "metadata": {},
   "source": [
    "## El clásico \"Hola Mundo\""
   ]
  },
  {
   "cell_type": "code",
   "execution_count": 3,
   "id": "e1aa26c8",
   "metadata": {},
   "outputs": [
    {
     "name": "stdout",
     "output_type": "stream",
     "text": [
      "Hola Mundo\n"
     ]
    }
   ],
   "source": [
    "print(\"Hola Mundo\")"
   ]
  },
  {
   "cell_type": "markdown",
   "id": "bdc71d10",
   "metadata": {},
   "source": [
    "## Tipos de datos básicos"
   ]
  },
  {
   "cell_type": "markdown",
   "id": "fe500d56",
   "metadata": {},
   "source": [
    "**int**\n",
    "\n",
    "Los números enteros (computacionalmente)"
   ]
  },
  {
   "cell_type": "code",
   "execution_count": 4,
   "id": "e476bd2e",
   "metadata": {},
   "outputs": [
    {
     "data": {
      "text/plain": [
       "5"
      ]
     },
     "execution_count": 4,
     "metadata": {},
     "output_type": "execute_result"
    }
   ],
   "source": [
    "a = 5\n",
    "a"
   ]
  },
  {
   "cell_type": "markdown",
   "id": "c9877410",
   "metadata": {},
   "source": [
    "**float**\n",
    "\n",
    "Los números decimales"
   ]
  },
  {
   "cell_type": "code",
   "execution_count": 5,
   "id": "39057d19",
   "metadata": {},
   "outputs": [
    {
     "data": {
      "text/plain": [
       "7.2"
      ]
     },
     "execution_count": 5,
     "metadata": {},
     "output_type": "execute_result"
    }
   ],
   "source": [
    "b = 7.2\n",
    "b"
   ]
  },
  {
   "cell_type": "markdown",
   "id": "9167e348",
   "metadata": {},
   "source": [
    "**complex**\n",
    "\n",
    "Números complejos, con parte real y parte imaginaria (en Python el imaginario $i$ se expresa como $j$)"
   ]
  },
  {
   "cell_type": "code",
   "execution_count": 6,
   "id": "22d1ac91",
   "metadata": {},
   "outputs": [
    {
     "data": {
      "text/plain": [
       "(2+3j)"
      ]
     },
     "execution_count": 6,
     "metadata": {},
     "output_type": "execute_result"
    }
   ],
   "source": [
    "c = 2 + 3j\n",
    "c"
   ]
  },
  {
   "cell_type": "markdown",
   "id": "110975ab",
   "metadata": {},
   "source": [
    "**str**\n",
    "\n",
    "Strings, o cadenas de carácteres"
   ]
  },
  {
   "cell_type": "code",
   "execution_count": 7,
   "id": "4c7610da",
   "metadata": {},
   "outputs": [
    {
     "data": {
      "text/plain": [
       "'Hola Mundo'"
      ]
     },
     "execution_count": 7,
     "metadata": {},
     "output_type": "execute_result"
    }
   ],
   "source": [
    "s = \"Hola Mundo\"\n",
    "s"
   ]
  },
  {
   "cell_type": "markdown",
   "id": "28d2bab8",
   "metadata": {},
   "source": [
    "**bool**\n",
    "\n",
    "Valores booleanos, solo pueden tener dos valores: `True` y `False`"
   ]
  },
  {
   "cell_type": "code",
   "execution_count": 8,
   "id": "56d32897",
   "metadata": {},
   "outputs": [
    {
     "data": {
      "text/plain": [
       "True"
      ]
     },
     "execution_count": 8,
     "metadata": {},
     "output_type": "execute_result"
    }
   ],
   "source": [
    "t = True\n",
    "t"
   ]
  },
  {
   "cell_type": "markdown",
   "id": "2e168c23",
   "metadata": {},
   "source": [
    "## Estructuras de datos básicas"
   ]
  },
  {
   "cell_type": "markdown",
   "id": "ecd16d50",
   "metadata": {},
   "source": [
    "**set**\n",
    "\n",
    "Conjuntos: No tienen orden y solo pueden contener una instancia única de cada dato, los datos repetidos se suprimen."
   ]
  },
  {
   "cell_type": "code",
   "execution_count": 9,
   "id": "6c23b876",
   "metadata": {},
   "outputs": [
    {
     "data": {
      "text/plain": [
       "{1, 2, 3, 4}"
      ]
     },
     "execution_count": 9,
     "metadata": {},
     "output_type": "execute_result"
    }
   ],
   "source": [
    "u = {1, 2, 3, 4, 3}\n",
    "u"
   ]
  },
  {
   "cell_type": "markdown",
   "id": "812e93f5",
   "metadata": {},
   "source": [
    "**tuple**\n",
    "\n",
    "Tuplas: Tienen un orden, permiten la repetición de datos, se puede accesar a los datos con la notación `a[i]` donde `i` es el índice y son inmutables, es decir, una vez creados no pueden modificarse, solo eliminarse por completo."
   ]
  },
  {
   "cell_type": "code",
   "execution_count": 10,
   "id": "3722566e",
   "metadata": {},
   "outputs": [
    {
     "data": {
      "text/plain": [
       "(1, 2, 3, 4, 3)"
      ]
     },
     "execution_count": 10,
     "metadata": {},
     "output_type": "execute_result"
    }
   ],
   "source": [
    "v = (1, 2, 3, 4, 3)\n",
    "v"
   ]
  },
  {
   "cell_type": "markdown",
   "id": "e33d1ac2",
   "metadata": {},
   "source": [
    "**list**\n",
    "\n",
    "Listas: Tienen un orden, permiten la repetición de datos, se puede accesar a los datos con la notación `a[i]` donde `i` es el índice y son mutables, es decir, se pueden modificar despues de ser creadas."
   ]
  },
  {
   "cell_type": "code",
   "execution_count": 11,
   "id": "498d7ecb",
   "metadata": {},
   "outputs": [
    {
     "data": {
      "text/plain": [
       "[1, 2, 3, 4, 3]"
      ]
     },
     "execution_count": 11,
     "metadata": {},
     "output_type": "execute_result"
    }
   ],
   "source": [
    "w = [1, 2, 3, 4, 3]\n",
    "w"
   ]
  },
  {
   "cell_type": "markdown",
   "id": "0266b038",
   "metadata": {},
   "source": [
    "**dict**\n",
    "\n",
    "Diccionarios: No tienen un orden, son parejas de *llaves* y *valores*, las llaves no pueden repetirse, se puede accesar a los valores con la notación `a[i]` donde `i` es la llave y son mutables, se pueden modificar después de ser creados."
   ]
  },
  {
   "cell_type": "code",
   "execution_count": 12,
   "id": "750ee7d8",
   "metadata": {},
   "outputs": [
    {
     "data": {
      "text/plain": [
       "{'a': 1, 'b': 2, 'c': 3}"
      ]
     },
     "execution_count": 12,
     "metadata": {},
     "output_type": "execute_result"
    }
   ],
   "source": [
    "z = {\"a\" : 1, \"b\" : 2, \"c\" : 3}\n",
    "z"
   ]
  },
  {
   "cell_type": "markdown",
   "id": "6c8c6f8e",
   "metadata": {},
   "source": [
    "### La función `type()`"
   ]
  },
  {
   "cell_type": "code",
   "execution_count": 13,
   "id": "84b66838",
   "metadata": {},
   "outputs": [
    {
     "data": {
      "text/plain": [
       "complex"
      ]
     },
     "execution_count": 13,
     "metadata": {},
     "output_type": "execute_result"
    }
   ],
   "source": [
    "type(c)"
   ]
  },
  {
   "cell_type": "markdown",
   "id": "0529ec23",
   "metadata": {},
   "source": [
    "### La función `print()`"
   ]
  },
  {
   "cell_type": "code",
   "execution_count": 14,
   "id": "3f5787b7",
   "metadata": {},
   "outputs": [
    {
     "name": "stdout",
     "output_type": "stream",
     "text": [
      "Este es un: Hola Mundo\n"
     ]
    }
   ],
   "source": [
    "print(\"Este es un:\", s) # Esta es una manera de hacer un print"
   ]
  },
  {
   "cell_type": "code",
   "execution_count": 15,
   "id": "e32ec91b",
   "metadata": {},
   "outputs": [
    {
     "name": "stdout",
     "output_type": "stream",
     "text": [
      "Este es un: Hola Mundo\n"
     ]
    }
   ],
   "source": [
    "print(f\"Este es un: {s}\") # Pero esta es más cómoda "
   ]
  },
  {
   "cell_type": "markdown",
   "id": "4106f8ac",
   "metadata": {},
   "source": [
    "### La función `dir`\n"
   ]
  },
  {
   "cell_type": "code",
   "execution_count": 16,
   "id": "aa068e05",
   "metadata": {},
   "outputs": [
    {
     "data": {
      "text/plain": [
       "['__abs__',\n",
       " '__add__',\n",
       " '__and__',\n",
       " '__bool__',\n",
       " '__ceil__',\n",
       " '__class__',\n",
       " '__delattr__',\n",
       " '__dir__',\n",
       " '__divmod__',\n",
       " '__doc__',\n",
       " '__eq__',\n",
       " '__float__',\n",
       " '__floor__',\n",
       " '__floordiv__',\n",
       " '__format__',\n",
       " '__ge__',\n",
       " '__getattribute__',\n",
       " '__getnewargs__',\n",
       " '__getstate__',\n",
       " '__gt__',\n",
       " '__hash__',\n",
       " '__index__',\n",
       " '__init__',\n",
       " '__init_subclass__',\n",
       " '__int__',\n",
       " '__invert__',\n",
       " '__le__',\n",
       " '__lshift__',\n",
       " '__lt__',\n",
       " '__mod__',\n",
       " '__mul__',\n",
       " '__ne__',\n",
       " '__neg__',\n",
       " '__new__',\n",
       " '__or__',\n",
       " '__pos__',\n",
       " '__pow__',\n",
       " '__radd__',\n",
       " '__rand__',\n",
       " '__rdivmod__',\n",
       " '__reduce__',\n",
       " '__reduce_ex__',\n",
       " '__repr__',\n",
       " '__rfloordiv__',\n",
       " '__rlshift__',\n",
       " '__rmod__',\n",
       " '__rmul__',\n",
       " '__ror__',\n",
       " '__round__',\n",
       " '__rpow__',\n",
       " '__rrshift__',\n",
       " '__rshift__',\n",
       " '__rsub__',\n",
       " '__rtruediv__',\n",
       " '__rxor__',\n",
       " '__setattr__',\n",
       " '__sizeof__',\n",
       " '__str__',\n",
       " '__sub__',\n",
       " '__subclasshook__',\n",
       " '__truediv__',\n",
       " '__trunc__',\n",
       " '__xor__',\n",
       " 'as_integer_ratio',\n",
       " 'bit_count',\n",
       " 'bit_length',\n",
       " 'conjugate',\n",
       " 'denominator',\n",
       " 'from_bytes',\n",
       " 'imag',\n",
       " 'is_integer',\n",
       " 'numerator',\n",
       " 'real',\n",
       " 'to_bytes']"
      ]
     },
     "execution_count": 16,
     "metadata": {},
     "output_type": "execute_result"
    }
   ],
   "source": [
    "dir(a)"
   ]
  },
  {
   "cell_type": "markdown",
   "id": "21a7833a",
   "metadata": {},
   "source": [
    "### La notación `variable.atributo` / `variable.método()`"
   ]
  },
  {
   "cell_type": "code",
   "execution_count": 20,
   "id": "5c94cb25",
   "metadata": {},
   "outputs": [
    {
     "data": {
      "text/plain": [
       "False"
      ]
     },
     "execution_count": 20,
     "metadata": {},
     "output_type": "execute_result"
    }
   ],
   "source": [
    "b.is_integer()"
   ]
  },
  {
   "cell_type": "markdown",
   "id": "4c734738",
   "metadata": {},
   "source": [
    "**Actividad**\n",
    "Definan una variable de tipo `str` y apliquen cinco de sus métodos para observar que hace cada uno"
   ]
  },
  {
   "cell_type": "code",
   "execution_count": 21,
   "id": "b5674247",
   "metadata": {},
   "outputs": [
    {
     "data": {
      "text/plain": [
       "'The Quick brown Fox jumps over the lazy Dog'"
      ]
     },
     "execution_count": 21,
     "metadata": {},
     "output_type": "execute_result"
    }
   ],
   "source": [
    "s2 = \"The Quick brown Fox jumps over the lazy Dog\"\n",
    "s2"
   ]
  },
  {
   "cell_type": "code",
   "execution_count": null,
   "id": "8900b4ec",
   "metadata": {},
   "outputs": [],
   "source": []
  }
 ],
 "metadata": {
  "kernelspec": {
   "display_name": "sci",
   "language": "python",
   "name": "python3"
  },
  "language_info": {
   "codemirror_mode": {
    "name": "ipython",
    "version": 3
   },
   "file_extension": ".py",
   "mimetype": "text/x-python",
   "name": "python",
   "nbconvert_exporter": "python",
   "pygments_lexer": "ipython3",
   "version": "3.13.2"
  }
 },
 "nbformat": 4,
 "nbformat_minor": 5
}
